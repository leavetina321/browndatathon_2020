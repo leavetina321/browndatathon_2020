{
 "cells": [
  {
   "cell_type": "code",
   "execution_count": 31,
   "metadata": {},
   "outputs": [],
   "source": [
    "import numpy as np\n",
    "import pandas as pd\n",
    "\n",
    "import os\n",
    "\n",
    "if not os.path.exists(\"images\"):\n",
    "    os.mkdir(\"images\")"
   ]
  },
  {
   "cell_type": "code",
   "execution_count": 32,
   "metadata": {},
   "outputs": [],
   "source": [
    "monthly = pd.read_csv('zip9_coded_201909_wh.csv')"
   ]
  },
  {
   "cell_type": "code",
   "execution_count": 33,
   "metadata": {},
   "outputs": [
    {
     "data": {
      "text/html": [
       "<div>\n",
       "<style scoped>\n",
       "    .dataframe tbody tr th:only-of-type {\n",
       "        vertical-align: middle;\n",
       "    }\n",
       "\n",
       "    .dataframe tbody tr th {\n",
       "        vertical-align: top;\n",
       "    }\n",
       "\n",
       "    .dataframe thead th {\n",
       "        text-align: right;\n",
       "    }\n",
       "</style>\n",
       "<table border=\"1\" class=\"dataframe\">\n",
       "  <thead>\n",
       "    <tr style=\"text-align: right;\">\n",
       "      <th></th>\n",
       "      <th>zip5</th>\n",
       "      <th>zip9_code</th>\n",
       "      <th>bankcard_limit</th>\n",
       "      <th>bankcard_balance</th>\n",
       "      <th>bankcard_trades</th>\n",
       "      <th>bankcard_util</th>\n",
       "      <th>total_revolving_limit</th>\n",
       "      <th>total_revolving_balance</th>\n",
       "      <th>total_revolving_trades</th>\n",
       "      <th>total_revolving_util</th>\n",
       "      <th>...</th>\n",
       "      <th>homeequity5_open</th>\n",
       "      <th>total_homeequity_limit</th>\n",
       "      <th>total_homeequity_balance</th>\n",
       "      <th>total_homeequity_trades</th>\n",
       "      <th>homeequity1_loan_to_value</th>\n",
       "      <th>autoloan_open</th>\n",
       "      <th>studentloan_open</th>\n",
       "      <th>bankcard_open</th>\n",
       "      <th>homeequity_open</th>\n",
       "      <th>mortgage_open</th>\n",
       "    </tr>\n",
       "  </thead>\n",
       "  <tbody>\n",
       "    <tr>\n",
       "      <th>0</th>\n",
       "      <td>48642</td>\n",
       "      <td>19</td>\n",
       "      <td>27890.000000</td>\n",
       "      <td>5856.800000</td>\n",
       "      <td>2.400000</td>\n",
       "      <td>0.453984</td>\n",
       "      <td>38360.700000</td>\n",
       "      <td>11926.000000</td>\n",
       "      <td>4.900000</td>\n",
       "      <td>0.397245</td>\n",
       "      <td>...</td>\n",
       "      <td>0.0</td>\n",
       "      <td>10000.0</td>\n",
       "      <td>6503.0</td>\n",
       "      <td>0.200</td>\n",
       "      <td>65.0</td>\n",
       "      <td>0.400000</td>\n",
       "      <td>0.1000</td>\n",
       "      <td>0.700000</td>\n",
       "      <td>0.2000</td>\n",
       "      <td>0.700000</td>\n",
       "    </tr>\n",
       "    <tr>\n",
       "      <th>1</th>\n",
       "      <td>84401</td>\n",
       "      <td>26</td>\n",
       "      <td>10540.384615</td>\n",
       "      <td>597.384615</td>\n",
       "      <td>1.923077</td>\n",
       "      <td>0.295520</td>\n",
       "      <td>12853.769231</td>\n",
       "      <td>1069.153846</td>\n",
       "      <td>3.461538</td>\n",
       "      <td>0.310865</td>\n",
       "      <td>...</td>\n",
       "      <td>0.0</td>\n",
       "      <td>NaN</td>\n",
       "      <td>NaN</td>\n",
       "      <td>0.000</td>\n",
       "      <td>NaN</td>\n",
       "      <td>0.153846</td>\n",
       "      <td>0.0000</td>\n",
       "      <td>0.615385</td>\n",
       "      <td>0.0000</td>\n",
       "      <td>0.230769</td>\n",
       "    </tr>\n",
       "    <tr>\n",
       "      <th>2</th>\n",
       "      <td>33306</td>\n",
       "      <td>34</td>\n",
       "      <td>34677.500000</td>\n",
       "      <td>5236.062500</td>\n",
       "      <td>3.062500</td>\n",
       "      <td>0.263185</td>\n",
       "      <td>39038.375000</td>\n",
       "      <td>5763.437500</td>\n",
       "      <td>4.437500</td>\n",
       "      <td>0.250530</td>\n",
       "      <td>...</td>\n",
       "      <td>0.0</td>\n",
       "      <td>100000.0</td>\n",
       "      <td>0.0</td>\n",
       "      <td>0.125</td>\n",
       "      <td>0.0</td>\n",
       "      <td>0.125000</td>\n",
       "      <td>0.3125</td>\n",
       "      <td>0.937500</td>\n",
       "      <td>0.1875</td>\n",
       "      <td>0.562500</td>\n",
       "    </tr>\n",
       "    <tr>\n",
       "      <th>3</th>\n",
       "      <td>30635</td>\n",
       "      <td>41</td>\n",
       "      <td>2130.000000</td>\n",
       "      <td>988.400000</td>\n",
       "      <td>0.600000</td>\n",
       "      <td>0.527898</td>\n",
       "      <td>3161.700000</td>\n",
       "      <td>1790.400000</td>\n",
       "      <td>1.300000</td>\n",
       "      <td>0.772320</td>\n",
       "      <td>...</td>\n",
       "      <td>0.0</td>\n",
       "      <td>NaN</td>\n",
       "      <td>NaN</td>\n",
       "      <td>0.000</td>\n",
       "      <td>NaN</td>\n",
       "      <td>0.100000</td>\n",
       "      <td>0.1000</td>\n",
       "      <td>0.300000</td>\n",
       "      <td>0.0000</td>\n",
       "      <td>0.000000</td>\n",
       "    </tr>\n",
       "    <tr>\n",
       "      <th>4</th>\n",
       "      <td>33770</td>\n",
       "      <td>42</td>\n",
       "      <td>10335.000000</td>\n",
       "      <td>7250.500000</td>\n",
       "      <td>3.625000</td>\n",
       "      <td>0.758408</td>\n",
       "      <td>17663.375000</td>\n",
       "      <td>11296.375000</td>\n",
       "      <td>7.250000</td>\n",
       "      <td>0.656051</td>\n",
       "      <td>...</td>\n",
       "      <td>0.0</td>\n",
       "      <td>NaN</td>\n",
       "      <td>NaN</td>\n",
       "      <td>0.000</td>\n",
       "      <td>NaN</td>\n",
       "      <td>0.500000</td>\n",
       "      <td>0.1250</td>\n",
       "      <td>0.875000</td>\n",
       "      <td>0.0000</td>\n",
       "      <td>0.125000</td>\n",
       "    </tr>\n",
       "  </tbody>\n",
       "</table>\n",
       "<p>5 rows × 53 columns</p>\n",
       "</div>"
      ],
      "text/plain": [
       "    zip5  zip9_code  bankcard_limit  bankcard_balance  bankcard_trades  \\\n",
       "0  48642         19    27890.000000       5856.800000         2.400000   \n",
       "1  84401         26    10540.384615        597.384615         1.923077   \n",
       "2  33306         34    34677.500000       5236.062500         3.062500   \n",
       "3  30635         41     2130.000000        988.400000         0.600000   \n",
       "4  33770         42    10335.000000       7250.500000         3.625000   \n",
       "\n",
       "   bankcard_util  total_revolving_limit  total_revolving_balance  \\\n",
       "0       0.453984           38360.700000             11926.000000   \n",
       "1       0.295520           12853.769231              1069.153846   \n",
       "2       0.263185           39038.375000              5763.437500   \n",
       "3       0.527898            3161.700000              1790.400000   \n",
       "4       0.758408           17663.375000             11296.375000   \n",
       "\n",
       "   total_revolving_trades  total_revolving_util  ...  homeequity5_open  \\\n",
       "0                4.900000              0.397245  ...               0.0   \n",
       "1                3.461538              0.310865  ...               0.0   \n",
       "2                4.437500              0.250530  ...               0.0   \n",
       "3                1.300000              0.772320  ...               0.0   \n",
       "4                7.250000              0.656051  ...               0.0   \n",
       "\n",
       "   total_homeequity_limit  total_homeequity_balance  total_homeequity_trades  \\\n",
       "0                 10000.0                    6503.0                    0.200   \n",
       "1                     NaN                       NaN                    0.000   \n",
       "2                100000.0                       0.0                    0.125   \n",
       "3                     NaN                       NaN                    0.000   \n",
       "4                     NaN                       NaN                    0.000   \n",
       "\n",
       "   homeequity1_loan_to_value  autoloan_open  studentloan_open  bankcard_open  \\\n",
       "0                       65.0       0.400000            0.1000       0.700000   \n",
       "1                        NaN       0.153846            0.0000       0.615385   \n",
       "2                        0.0       0.125000            0.3125       0.937500   \n",
       "3                        NaN       0.100000            0.1000       0.300000   \n",
       "4                        NaN       0.500000            0.1250       0.875000   \n",
       "\n",
       "   homeequity_open  mortgage_open  \n",
       "0           0.2000       0.700000  \n",
       "1           0.0000       0.230769  \n",
       "2           0.1875       0.562500  \n",
       "3           0.0000       0.000000  \n",
       "4           0.0000       0.125000  \n",
       "\n",
       "[5 rows x 53 columns]"
      ]
     },
     "execution_count": 33,
     "metadata": {},
     "output_type": "execute_result"
    }
   ],
   "source": [
    "monthly.head()"
   ]
  },
  {
   "cell_type": "code",
   "execution_count": 34,
   "metadata": {},
   "outputs": [],
   "source": [
    "zip9_test = pd.read_csv('zip9_demographics_unlabeled_wh_test.csv')"
   ]
  },
  {
   "cell_type": "code",
   "execution_count": 35,
   "metadata": {},
   "outputs": [
    {
     "data": {
      "text/plain": [
       "(667418, 4)"
      ]
     },
     "execution_count": 35,
     "metadata": {},
     "output_type": "execute_result"
    }
   ],
   "source": [
    "zip9_test.shape"
   ]
  },
  {
   "cell_type": "code",
   "execution_count": 36,
   "metadata": {},
   "outputs": [],
   "source": [
    "zip1 = pd.merge(zip9_test, monthly.loc[:,['zip5', 'zip9_code']], on='zip9_code')"
   ]
  },
  {
   "cell_type": "code",
   "execution_count": 37,
   "metadata": {},
   "outputs": [
    {
     "data": {
      "text/html": [
       "<div>\n",
       "<style scoped>\n",
       "    .dataframe tbody tr th:only-of-type {\n",
       "        vertical-align: middle;\n",
       "    }\n",
       "\n",
       "    .dataframe tbody tr th {\n",
       "        vertical-align: top;\n",
       "    }\n",
       "\n",
       "    .dataframe thead th {\n",
       "        text-align: right;\n",
       "    }\n",
       "</style>\n",
       "<table border=\"1\" class=\"dataframe\">\n",
       "  <thead>\n",
       "    <tr style=\"text-align: right;\">\n",
       "      <th></th>\n",
       "      <th>zip9_code</th>\n",
       "      <th>age</th>\n",
       "      <th>household_count</th>\n",
       "      <th>person_count</th>\n",
       "      <th>zip5</th>\n",
       "    </tr>\n",
       "  </thead>\n",
       "  <tbody>\n",
       "    <tr>\n",
       "      <th>0</th>\n",
       "      <td>3797056</td>\n",
       "      <td>44.246817</td>\n",
       "      <td>6</td>\n",
       "      <td>12</td>\n",
       "      <td>1001</td>\n",
       "    </tr>\n",
       "    <tr>\n",
       "      <th>1</th>\n",
       "      <td>3068313</td>\n",
       "      <td>37.451611</td>\n",
       "      <td>8</td>\n",
       "      <td>21</td>\n",
       "      <td>1001</td>\n",
       "    </tr>\n",
       "    <tr>\n",
       "      <th>2</th>\n",
       "      <td>3203991</td>\n",
       "      <td>51.953018</td>\n",
       "      <td>6</td>\n",
       "      <td>7</td>\n",
       "      <td>1001</td>\n",
       "    </tr>\n",
       "    <tr>\n",
       "      <th>3</th>\n",
       "      <td>324866</td>\n",
       "      <td>46.804237</td>\n",
       "      <td>5</td>\n",
       "      <td>9</td>\n",
       "      <td>1001</td>\n",
       "    </tr>\n",
       "    <tr>\n",
       "      <th>4</th>\n",
       "      <td>2899974</td>\n",
       "      <td>54.523189</td>\n",
       "      <td>5</td>\n",
       "      <td>10</td>\n",
       "      <td>1001</td>\n",
       "    </tr>\n",
       "  </tbody>\n",
       "</table>\n",
       "</div>"
      ],
      "text/plain": [
       "   zip9_code        age  household_count  person_count  zip5\n",
       "0    3797056  44.246817                6            12  1001\n",
       "1    3068313  37.451611                8            21  1001\n",
       "2    3203991  51.953018                6             7  1001\n",
       "3     324866  46.804237                5             9  1001\n",
       "4    2899974  54.523189                5            10  1001"
      ]
     },
     "execution_count": 37,
     "metadata": {},
     "output_type": "execute_result"
    }
   ],
   "source": [
    "zip1.head()"
   ]
  },
  {
   "cell_type": "code",
   "execution_count": 38,
   "metadata": {},
   "outputs": [],
   "source": [
    "zip9 = zip1.rename(columns={'zip9_code': 'zip9'})"
   ]
  },
  {
   "cell_type": "code",
   "execution_count": 39,
   "metadata": {},
   "outputs": [
    {
     "data": {
      "text/plain": [
       "(667418, 5)"
      ]
     },
     "execution_count": 39,
     "metadata": {},
     "output_type": "execute_result"
    }
   ],
   "source": [
    "zip9.shape"
   ]
  },
  {
   "cell_type": "code",
   "execution_count": 40,
   "metadata": {},
   "outputs": [
    {
     "data": {
      "text/html": [
       "<div>\n",
       "<style scoped>\n",
       "    .dataframe tbody tr th:only-of-type {\n",
       "        vertical-align: middle;\n",
       "    }\n",
       "\n",
       "    .dataframe tbody tr th {\n",
       "        vertical-align: top;\n",
       "    }\n",
       "\n",
       "    .dataframe thead th {\n",
       "        text-align: right;\n",
       "    }\n",
       "</style>\n",
       "<table border=\"1\" class=\"dataframe\">\n",
       "  <thead>\n",
       "    <tr style=\"text-align: right;\">\n",
       "      <th></th>\n",
       "      <th>zip9</th>\n",
       "      <th>age</th>\n",
       "      <th>household_count</th>\n",
       "      <th>person_count</th>\n",
       "      <th>zip5</th>\n",
       "    </tr>\n",
       "  </thead>\n",
       "  <tbody>\n",
       "    <tr>\n",
       "      <th>0</th>\n",
       "      <td>3797056</td>\n",
       "      <td>44.246817</td>\n",
       "      <td>6</td>\n",
       "      <td>12</td>\n",
       "      <td>1001</td>\n",
       "    </tr>\n",
       "    <tr>\n",
       "      <th>1</th>\n",
       "      <td>3068313</td>\n",
       "      <td>37.451611</td>\n",
       "      <td>8</td>\n",
       "      <td>21</td>\n",
       "      <td>1001</td>\n",
       "    </tr>\n",
       "    <tr>\n",
       "      <th>2</th>\n",
       "      <td>3203991</td>\n",
       "      <td>51.953018</td>\n",
       "      <td>6</td>\n",
       "      <td>7</td>\n",
       "      <td>1001</td>\n",
       "    </tr>\n",
       "    <tr>\n",
       "      <th>3</th>\n",
       "      <td>324866</td>\n",
       "      <td>46.804237</td>\n",
       "      <td>5</td>\n",
       "      <td>9</td>\n",
       "      <td>1001</td>\n",
       "    </tr>\n",
       "    <tr>\n",
       "      <th>4</th>\n",
       "      <td>2899974</td>\n",
       "      <td>54.523189</td>\n",
       "      <td>5</td>\n",
       "      <td>10</td>\n",
       "      <td>1001</td>\n",
       "    </tr>\n",
       "  </tbody>\n",
       "</table>\n",
       "</div>"
      ],
      "text/plain": [
       "      zip9        age  household_count  person_count  zip5\n",
       "0  3797056  44.246817                6            12  1001\n",
       "1  3068313  37.451611                8            21  1001\n",
       "2  3203991  51.953018                6             7  1001\n",
       "3   324866  46.804237                5             9  1001\n",
       "4  2899974  54.523189                5            10  1001"
      ]
     },
     "execution_count": 40,
     "metadata": {},
     "output_type": "execute_result"
    }
   ],
   "source": [
    "zip9.head()"
   ]
  },
  {
   "cell_type": "code",
   "execution_count": 41,
   "metadata": {},
   "outputs": [],
   "source": [
    "left = zip9.loc[:, ['zip5', 'zip9']]"
   ]
  },
  {
   "cell_type": "code",
   "execution_count": 42,
   "metadata": {},
   "outputs": [
    {
     "data": {
      "text/plain": [
       "(21136, 2)"
      ]
     },
     "execution_count": 42,
     "metadata": {},
     "output_type": "execute_result"
    }
   ],
   "source": [
    "# get age first\n",
    "df = (\n",
    "    zip9\n",
    "    .groupby('zip5', as_index=False)\n",
    "    .agg({'age': 'mean'})\n",
    "    .rename(columns={'age': 'mean_age'})\n",
    "    )\n",
    "\n",
    "df['mean_age'] = (df['mean_age'] - np.mean(df['mean_age']))/np.std(df['mean_age'])\n",
    "\n",
    "df.shape"
   ]
  },
  {
   "cell_type": "code",
   "execution_count": 43,
   "metadata": {},
   "outputs": [
    {
     "data": {
      "text/html": [
       "<div>\n",
       "<style scoped>\n",
       "    .dataframe tbody tr th:only-of-type {\n",
       "        vertical-align: middle;\n",
       "    }\n",
       "\n",
       "    .dataframe tbody tr th {\n",
       "        vertical-align: top;\n",
       "    }\n",
       "\n",
       "    .dataframe thead th {\n",
       "        text-align: right;\n",
       "    }\n",
       "</style>\n",
       "<table border=\"1\" class=\"dataframe\">\n",
       "  <thead>\n",
       "    <tr style=\"text-align: right;\">\n",
       "      <th></th>\n",
       "      <th>zip5</th>\n",
       "      <th>mean_age</th>\n",
       "    </tr>\n",
       "  </thead>\n",
       "  <tbody>\n",
       "    <tr>\n",
       "      <th>0</th>\n",
       "      <td>1001</td>\n",
       "      <td>0.127710</td>\n",
       "    </tr>\n",
       "    <tr>\n",
       "      <th>1</th>\n",
       "      <td>1002</td>\n",
       "      <td>-0.351784</td>\n",
       "    </tr>\n",
       "    <tr>\n",
       "      <th>2</th>\n",
       "      <td>1005</td>\n",
       "      <td>-0.098022</td>\n",
       "    </tr>\n",
       "    <tr>\n",
       "      <th>3</th>\n",
       "      <td>1007</td>\n",
       "      <td>0.298482</td>\n",
       "    </tr>\n",
       "    <tr>\n",
       "      <th>4</th>\n",
       "      <td>1008</td>\n",
       "      <td>0.433046</td>\n",
       "    </tr>\n",
       "  </tbody>\n",
       "</table>\n",
       "</div>"
      ],
      "text/plain": [
       "   zip5  mean_age\n",
       "0  1001  0.127710\n",
       "1  1002 -0.351784\n",
       "2  1005 -0.098022\n",
       "3  1007  0.298482\n",
       "4  1008  0.433046"
      ]
     },
     "execution_count": 43,
     "metadata": {},
     "output_type": "execute_result"
    }
   ],
   "source": [
    "df.head()"
   ]
  },
  {
   "cell_type": "code",
   "execution_count": 44,
   "metadata": {},
   "outputs": [],
   "source": [
    "df = pd.merge(left, df, on='zip5', how='inner')"
   ]
  },
  {
   "cell_type": "code",
   "execution_count": 46,
   "metadata": {},
   "outputs": [],
   "source": [
    "# get home value\n",
    "home_value = pd.read_csv('home-value.csv', encoding='latin1')"
   ]
  },
  {
   "cell_type": "code",
   "execution_count": 47,
   "metadata": {},
   "outputs": [
    {
     "data": {
      "text/html": [
       "<div>\n",
       "<style scoped>\n",
       "    .dataframe tbody tr th:only-of-type {\n",
       "        vertical-align: middle;\n",
       "    }\n",
       "\n",
       "    .dataframe tbody tr th {\n",
       "        vertical-align: top;\n",
       "    }\n",
       "\n",
       "    .dataframe thead th {\n",
       "        text-align: right;\n",
       "    }\n",
       "</style>\n",
       "<table border=\"1\" class=\"dataframe\">\n",
       "  <thead>\n",
       "    <tr style=\"text-align: right;\">\n",
       "      <th></th>\n",
       "      <th>zip5</th>\n",
       "      <th>median_home_value</th>\n",
       "    </tr>\n",
       "  </thead>\n",
       "  <tbody>\n",
       "    <tr>\n",
       "      <th>0</th>\n",
       "      <td>10025</td>\n",
       "      <td>4.608868</td>\n",
       "    </tr>\n",
       "    <tr>\n",
       "      <th>1</th>\n",
       "      <td>60657</td>\n",
       "      <td>1.177292</td>\n",
       "    </tr>\n",
       "    <tr>\n",
       "      <th>2</th>\n",
       "      <td>10023</td>\n",
       "      <td>4.089417</td>\n",
       "    </tr>\n",
       "    <tr>\n",
       "      <th>3</th>\n",
       "      <td>77494</td>\n",
       "      <td>0.521178</td>\n",
       "    </tr>\n",
       "    <tr>\n",
       "      <th>4</th>\n",
       "      <td>60614</td>\n",
       "      <td>1.847468</td>\n",
       "    </tr>\n",
       "  </tbody>\n",
       "</table>\n",
       "</div>"
      ],
      "text/plain": [
       "    zip5  median_home_value\n",
       "0  10025           4.608868\n",
       "1  60657           1.177292\n",
       "2  10023           4.089417\n",
       "3  77494           0.521178\n",
       "4  60614           1.847468"
      ]
     },
     "execution_count": 47,
     "metadata": {},
     "output_type": "execute_result"
    }
   ],
   "source": [
    "home_value = home_value.loc[:, ['RegionName', '2019-10']]\n",
    "\n",
    "home_value['2019-10'] = (home_value['2019-10'] - np.mean(home_value['2019-10'])) / np.std(home_value['2019-10'])\n",
    "\n",
    "home_value = home_value.rename(columns={'RegionName': 'zip5', '2019-10': 'median_home_value'})\n",
    "\n",
    "home_value.head()"
   ]
  },
  {
   "cell_type": "code",
   "execution_count": 48,
   "metadata": {},
   "outputs": [
    {
     "data": {
      "text/plain": [
       "(30442, 2)"
      ]
     },
     "execution_count": 48,
     "metadata": {},
     "output_type": "execute_result"
    }
   ],
   "source": [
    "home_value.shape"
   ]
  },
  {
   "cell_type": "code",
   "execution_count": 49,
   "metadata": {},
   "outputs": [],
   "source": [
    "# get income by zipcode\n",
    "income = pd.read_csv('income.csv')"
   ]
  },
  {
   "cell_type": "code",
   "execution_count": 50,
   "metadata": {},
   "outputs": [
    {
     "data": {
      "text/html": [
       "<div>\n",
       "<style scoped>\n",
       "    .dataframe tbody tr th:only-of-type {\n",
       "        vertical-align: middle;\n",
       "    }\n",
       "\n",
       "    .dataframe tbody tr th {\n",
       "        vertical-align: top;\n",
       "    }\n",
       "\n",
       "    .dataframe thead th {\n",
       "        text-align: right;\n",
       "    }\n",
       "</style>\n",
       "<table border=\"1\" class=\"dataframe\">\n",
       "  <thead>\n",
       "    <tr style=\"text-align: right;\">\n",
       "      <th></th>\n",
       "      <th>zip5</th>\n",
       "      <th>standardized_income</th>\n",
       "    </tr>\n",
       "  </thead>\n",
       "  <tbody>\n",
       "    <tr>\n",
       "      <th>0</th>\n",
       "      <td>0</td>\n",
       "      <td>-0.137908</td>\n",
       "    </tr>\n",
       "    <tr>\n",
       "      <th>1</th>\n",
       "      <td>35004</td>\n",
       "      <td>-0.144876</td>\n",
       "    </tr>\n",
       "    <tr>\n",
       "      <th>2</th>\n",
       "      <td>35005</td>\n",
       "      <td>-0.467090</td>\n",
       "    </tr>\n",
       "    <tr>\n",
       "      <th>3</th>\n",
       "      <td>35006</td>\n",
       "      <td>-0.260412</td>\n",
       "    </tr>\n",
       "    <tr>\n",
       "      <th>4</th>\n",
       "      <td>35007</td>\n",
       "      <td>-0.096111</td>\n",
       "    </tr>\n",
       "  </tbody>\n",
       "</table>\n",
       "</div>"
      ],
      "text/plain": [
       "    zip5  standardized_income\n",
       "0      0            -0.137908\n",
       "1  35004            -0.144876\n",
       "2  35005            -0.467090\n",
       "3  35006            -0.260412\n",
       "4  35007            -0.096111"
      ]
     },
     "execution_count": 50,
     "metadata": {},
     "output_type": "execute_result"
    }
   ],
   "source": [
    "income = income.loc[:, ['ZIPCODE', 'Avg total income']]\n",
    "\n",
    "income['standardized_income'] = (income['Avg total income'] - np.mean(income['Avg total income'])) / np.std(income['Avg total income'])\n",
    "\n",
    "income = income.rename(columns={'ZIPCODE': 'zip5'})\n",
    "\n",
    "income = income.drop(columns=['Avg total income'])\n",
    "\n",
    "\n",
    "income.head()"
   ]
  },
  {
   "cell_type": "code",
   "execution_count": 51,
   "metadata": {},
   "outputs": [
    {
     "data": {
      "text/plain": [
       "(27790, 2)"
      ]
     },
     "execution_count": 51,
     "metadata": {},
     "output_type": "execute_result"
    }
   ],
   "source": [
    "income.shape"
   ]
  },
  {
   "cell_type": "code",
   "execution_count": 52,
   "metadata": {},
   "outputs": [],
   "source": [
    "merge = pd.merge(df, home_value, on='zip5', how='left')"
   ]
  },
  {
   "cell_type": "code",
   "execution_count": 53,
   "metadata": {},
   "outputs": [],
   "source": [
    "merge = pd.merge(merge, income, on='zip5', how='left')"
   ]
  },
  {
   "cell_type": "code",
   "execution_count": 54,
   "metadata": {},
   "outputs": [
    {
     "data": {
      "text/html": [
       "<div>\n",
       "<style scoped>\n",
       "    .dataframe tbody tr th:only-of-type {\n",
       "        vertical-align: middle;\n",
       "    }\n",
       "\n",
       "    .dataframe tbody tr th {\n",
       "        vertical-align: top;\n",
       "    }\n",
       "\n",
       "    .dataframe thead th {\n",
       "        text-align: right;\n",
       "    }\n",
       "</style>\n",
       "<table border=\"1\" class=\"dataframe\">\n",
       "  <thead>\n",
       "    <tr style=\"text-align: right;\">\n",
       "      <th></th>\n",
       "      <th>zip5</th>\n",
       "      <th>zip9</th>\n",
       "      <th>mean_age</th>\n",
       "      <th>median_home_value</th>\n",
       "      <th>standardized_income</th>\n",
       "    </tr>\n",
       "  </thead>\n",
       "  <tbody>\n",
       "    <tr>\n",
       "      <th>0</th>\n",
       "      <td>1001</td>\n",
       "      <td>3797056</td>\n",
       "      <td>0.12771</td>\n",
       "      <td>-0.002525</td>\n",
       "      <td>-0.094343</td>\n",
       "    </tr>\n",
       "    <tr>\n",
       "      <th>1</th>\n",
       "      <td>1001</td>\n",
       "      <td>3068313</td>\n",
       "      <td>0.12771</td>\n",
       "      <td>-0.002525</td>\n",
       "      <td>-0.094343</td>\n",
       "    </tr>\n",
       "    <tr>\n",
       "      <th>2</th>\n",
       "      <td>1001</td>\n",
       "      <td>3203991</td>\n",
       "      <td>0.12771</td>\n",
       "      <td>-0.002525</td>\n",
       "      <td>-0.094343</td>\n",
       "    </tr>\n",
       "    <tr>\n",
       "      <th>3</th>\n",
       "      <td>1001</td>\n",
       "      <td>324866</td>\n",
       "      <td>0.12771</td>\n",
       "      <td>-0.002525</td>\n",
       "      <td>-0.094343</td>\n",
       "    </tr>\n",
       "    <tr>\n",
       "      <th>4</th>\n",
       "      <td>1001</td>\n",
       "      <td>2899974</td>\n",
       "      <td>0.12771</td>\n",
       "      <td>-0.002525</td>\n",
       "      <td>-0.094343</td>\n",
       "    </tr>\n",
       "  </tbody>\n",
       "</table>\n",
       "</div>"
      ],
      "text/plain": [
       "   zip5     zip9  mean_age  median_home_value  standardized_income\n",
       "0  1001  3797056   0.12771          -0.002525            -0.094343\n",
       "1  1001  3068313   0.12771          -0.002525            -0.094343\n",
       "2  1001  3203991   0.12771          -0.002525            -0.094343\n",
       "3  1001   324866   0.12771          -0.002525            -0.094343\n",
       "4  1001  2899974   0.12771          -0.002525            -0.094343"
      ]
     },
     "execution_count": 54,
     "metadata": {},
     "output_type": "execute_result"
    }
   ],
   "source": [
    "merge.head()"
   ]
  },
  {
   "cell_type": "code",
   "execution_count": null,
   "metadata": {},
   "outputs": [],
   "source": [
    "#merge['affordability'] = merge['median_home_value'] / (merge['Avg total income'] * 1000)"
   ]
  },
  {
   "cell_type": "code",
   "execution_count": null,
   "metadata": {},
   "outputs": [],
   "source": [
    "# affordability is a measure of years the average person can afford a median house"
   ]
  },
  {
   "cell_type": "code",
   "execution_count": null,
   "metadata": {},
   "outputs": [],
   "source": [
    "merge.head()"
   ]
  },
  {
   "cell_type": "code",
   "execution_count": 55,
   "metadata": {},
   "outputs": [
    {
     "data": {
      "text/html": [
       "<div>\n",
       "<style scoped>\n",
       "    .dataframe tbody tr th:only-of-type {\n",
       "        vertical-align: middle;\n",
       "    }\n",
       "\n",
       "    .dataframe tbody tr th {\n",
       "        vertical-align: top;\n",
       "    }\n",
       "\n",
       "    .dataframe thead th {\n",
       "        text-align: right;\n",
       "    }\n",
       "</style>\n",
       "<table border=\"1\" class=\"dataframe\">\n",
       "  <thead>\n",
       "    <tr style=\"text-align: right;\">\n",
       "      <th></th>\n",
       "      <th>zip9</th>\n",
       "      <th>age</th>\n",
       "      <th>household_count</th>\n",
       "      <th>person_count</th>\n",
       "      <th>zip5</th>\n",
       "    </tr>\n",
       "  </thead>\n",
       "  <tbody>\n",
       "    <tr>\n",
       "      <th>0</th>\n",
       "      <td>3797056</td>\n",
       "      <td>44.246817</td>\n",
       "      <td>6</td>\n",
       "      <td>12</td>\n",
       "      <td>1001</td>\n",
       "    </tr>\n",
       "    <tr>\n",
       "      <th>1</th>\n",
       "      <td>3068313</td>\n",
       "      <td>37.451611</td>\n",
       "      <td>8</td>\n",
       "      <td>21</td>\n",
       "      <td>1001</td>\n",
       "    </tr>\n",
       "    <tr>\n",
       "      <th>2</th>\n",
       "      <td>3203991</td>\n",
       "      <td>51.953018</td>\n",
       "      <td>6</td>\n",
       "      <td>7</td>\n",
       "      <td>1001</td>\n",
       "    </tr>\n",
       "    <tr>\n",
       "      <th>3</th>\n",
       "      <td>324866</td>\n",
       "      <td>46.804237</td>\n",
       "      <td>5</td>\n",
       "      <td>9</td>\n",
       "      <td>1001</td>\n",
       "    </tr>\n",
       "    <tr>\n",
       "      <th>4</th>\n",
       "      <td>2899974</td>\n",
       "      <td>54.523189</td>\n",
       "      <td>5</td>\n",
       "      <td>10</td>\n",
       "      <td>1001</td>\n",
       "    </tr>\n",
       "  </tbody>\n",
       "</table>\n",
       "</div>"
      ],
      "text/plain": [
       "      zip9        age  household_count  person_count  zip5\n",
       "0  3797056  44.246817                6            12  1001\n",
       "1  3068313  37.451611                8            21  1001\n",
       "2  3203991  51.953018                6             7  1001\n",
       "3   324866  46.804237                5             9  1001\n",
       "4  2899974  54.523189                5            10  1001"
      ]
     },
     "execution_count": 55,
     "metadata": {},
     "output_type": "execute_result"
    }
   ],
   "source": [
    "zip9.head()"
   ]
  },
  {
   "cell_type": "code",
   "execution_count": 56,
   "metadata": {},
   "outputs": [],
   "source": [
    "num_households = (\n",
    "    zip9\n",
    "    .groupby('zip5', as_index=False)\n",
    "    .agg({'household_count': 'sum'})\n",
    "\n",
    ")"
   ]
  },
  {
   "cell_type": "code",
   "execution_count": null,
   "metadata": {},
   "outputs": [],
   "source": [
    "home_buyers = (\n",
    "    zip9\n",
    "    .groupby('zip5', as_index=False)\n",
    "    .agg({'homebuyers': 'sum'})\n",
    "\n",
    ")\n",
    "\n",
    "home_buyers.head()"
   ]
  },
  {
   "cell_type": "code",
   "execution_count": 57,
   "metadata": {},
   "outputs": [],
   "source": [
    "merge = pd.merge(merge, num_households, on='zip5', how='left')"
   ]
  },
  {
   "cell_type": "code",
   "execution_count": null,
   "metadata": {},
   "outputs": [],
   "source": [
    "merge = pd.merge(merge, home_buyers, on='zip5', how='left')"
   ]
  },
  {
   "cell_type": "code",
   "execution_count": null,
   "metadata": {},
   "outputs": [],
   "source": [
    "import plotly.graph_objects as go\n",
    "import numpy as np\n"
   ]
  },
  {
   "cell_type": "code",
   "execution_count": null,
   "metadata": {},
   "outputs": [],
   "source": [
    "fig = go.Figure(data=go.Scatter(\n",
    "    y = imputed_merge['affordability'],\n",
    "    x = imputed_merge['homebuyers'],\n",
    "    mode='markers',\n",
    "#     marker=dict(\n",
    "#         size=12,\n",
    "#         color=merge['household_count'], #set color equal to a variable\n",
    "#         colorscale='Viridis', # one of plotly colorscales\n",
    "#         showscale=True\n",
    "#     )\n",
    "))\n",
    "\n",
    "fig.show()"
   ]
  },
  {
   "cell_type": "code",
   "execution_count": null,
   "metadata": {},
   "outputs": [],
   "source": [
    "imputed_merge.corr()"
   ]
  },
  {
   "cell_type": "code",
   "execution_count": null,
   "metadata": {},
   "outputs": [],
   "source": [
    "large_communities = merge.loc[merge['household_count'] < 500]"
   ]
  },
  {
   "cell_type": "code",
   "execution_count": null,
   "metadata": {},
   "outputs": [],
   "source": [
    "fig = go.Figure(data=go.Scatter(\n",
    "    y = large_communities['Avg total income'],\n",
    "    x = large_communities['median_home_value'],\n",
    "    mode='markers',\n",
    "    marker=dict(\n",
    "        size=12,\n",
    "        color=large_communities['household_count'], #set color equal to a variable\n",
    "        colorscale='Viridis', # one of plotly colorscales\n",
    "        showscale=True\n",
    "    )\n",
    "))\n",
    "\n",
    "fig.show()"
   ]
  },
  {
   "cell_type": "code",
   "execution_count": null,
   "metadata": {},
   "outputs": [],
   "source": [
    "plt.hist(merge['household_count'])"
   ]
  },
  {
   "cell_type": "code",
   "execution_count": null,
   "metadata": {},
   "outputs": [],
   "source": [
    "merge['household_count'].describe()"
   ]
  },
  {
   "cell_type": "code",
   "execution_count": null,
   "metadata": {},
   "outputs": [],
   "source": []
  },
  {
   "cell_type": "code",
   "execution_count": null,
   "metadata": {},
   "outputs": [],
   "source": [
    "monthly_listings = pd.read_csv('monthly-listings.csv', encoding='latin1')"
   ]
  },
  {
   "cell_type": "code",
   "execution_count": null,
   "metadata": {},
   "outputs": [],
   "source": [
    "# can't use monthly listings since only 12000 zipcodes of data\n",
    "# # get monthly listings\n",
    "# monthly_listings = pd.read_csv('monthly-listings.csv', encoding='latin1')\n",
    "\n",
    "# monthly_listing_cols = ['RegionId', '2019-01', '2019-02', '2019-03',\n",
    "#                         '2019-04', '2019-05', '2019-06', '2019-07', '2019-08',\n",
    "#                         '2019-09', '2019-10', '2019-11', '2019-12']\n",
    "\n",
    "# monthly_listings = monthly_listings.loc[:, monthly_listing_cols]\n",
    "\n",
    "# monthly_listings['avg_listings'] = (monthly_listings['2019-01'] + monthly_listings['2019-02'] + \\\n",
    "# monthly_listings['2019-03'] + monthly_listings['2019-04'] + monthly_listings['2019-05'] + monthly_listings['2019-06'] +\\\n",
    "# monthly_listings['2019-07'] + monthly_listings['2019-08'] +  monthly_listings['2019-09'] + monthly_listings['2019-10'] +\\\n",
    "# monthly_listings['2019-11'] + monthly_listings['2019-12'])/12\n",
    "\n",
    "# monthly_listings = monthly_listings.loc[:, ['RegionId', 'avg_listings']]\n",
    "\n",
    "# monthly_listings['avg_listings'] = (monthly_listings['avg_listings'] - np.mean(monthly_listings['avg_listings'])) / np.std(monthly_listings['avg_listings'])\n",
    "\n",
    "# monthly_listings.head()"
   ]
  },
  {
   "cell_type": "code",
   "execution_count": null,
   "metadata": {},
   "outputs": [],
   "source": [
    "# can't use new monthly lisitngs since we have 5000\n",
    "# get new monthly listings\n",
    "# new_listings = pd.read_csv('new-monthly-listings.csv', encoding='latin1')\n",
    "\n",
    "# monthly_listing_cols = ['RegionName', '2019-01', '2019-02', '2019-03',\n",
    "#                         '2019-04', '2019-05', '2019-06', '2019-07', '2019-08',\n",
    "#                         '2019-09', '2019-10', '2019-11', '2019-12']\n",
    "\n",
    "# new_listings = new_listings.loc[:, monthly_listing_cols]\n",
    "\n",
    "# new_listings['avg_new_listings'] = (new_listings['2019-01'] + new_listings['2019-02'] + \\\n",
    "# new_listings['2019-03'] + new_listings['2019-04'] + new_listings['2019-05'] + new_listings['2019-06'] +\\\n",
    "# new_listings['2019-07'] + new_listings['2019-08'] +  new_listings['2019-09'] + new_listings['2019-10'] +\\\n",
    "# new_listings['2019-11'] + new_listings['2019-12'])/12\n",
    "\n",
    "# new_listings = new_listings.loc[:, ['RegionName', 'avg_new_listings']]\n",
    "\n",
    "# monthly_listings['avg_listings'] = (monthly_listings['avg_listings'] - np.mean(monthly_listings['avg_listings'])) / np.std(monthly_listings['avg_listings'])\n",
    "\n",
    "# monthly_listings.head()"
   ]
  },
  {
   "cell_type": "code",
   "execution_count": 58,
   "metadata": {},
   "outputs": [
    {
     "data": {
      "text/plain": [
       "zip5                      0\n",
       "zip9                      0\n",
       "mean_age                  0\n",
       "median_home_value      3197\n",
       "standardized_income    1808\n",
       "household_count           0\n",
       "dtype: int64"
      ]
     },
     "execution_count": 58,
     "metadata": {},
     "output_type": "execute_result"
    }
   ],
   "source": [
    "merge.isnull().sum()"
   ]
  },
  {
   "cell_type": "code",
   "execution_count": 59,
   "metadata": {},
   "outputs": [
    {
     "data": {
      "text/plain": [
       "Index(['zip5', 'zip9', 'mean_age', 'median_home_value', 'standardized_income',\n",
       "       'household_count'],\n",
       "      dtype='object')"
      ]
     },
     "execution_count": 59,
     "metadata": {},
     "output_type": "execute_result"
    }
   ],
   "source": [
    "merge.columns"
   ]
  },
  {
   "cell_type": "code",
   "execution_count": null,
   "metadata": {},
   "outputs": [],
   "source": [
    "# impute with mean"
   ]
  },
  {
   "cell_type": "code",
   "execution_count": 21,
   "metadata": {},
   "outputs": [],
   "source": [
    "from sklearn.impute import SimpleImputer"
   ]
  },
  {
   "cell_type": "code",
   "execution_count": 60,
   "metadata": {},
   "outputs": [],
   "source": [
    "imp_median = SimpleImputer(missing_values=np.nan, strategy='median')"
   ]
  },
  {
   "cell_type": "code",
   "execution_count": 61,
   "metadata": {},
   "outputs": [
    {
     "data": {
      "text/plain": [
       "SimpleImputer(add_indicator=False, copy=True, fill_value=None,\n",
       "              missing_values=nan, strategy='median', verbose=0)"
      ]
     },
     "execution_count": 61,
     "metadata": {},
     "output_type": "execute_result"
    }
   ],
   "source": [
    "imp_median.fit(merge)"
   ]
  },
  {
   "cell_type": "code",
   "execution_count": 62,
   "metadata": {},
   "outputs": [],
   "source": [
    "imputed_merge = imp_median.transform(merge)"
   ]
  },
  {
   "cell_type": "code",
   "execution_count": 63,
   "metadata": {},
   "outputs": [],
   "source": [
    "imputed_merge = pd.DataFrame(imputed_merge, columns=merge.columns)"
   ]
  },
  {
   "cell_type": "code",
   "execution_count": 64,
   "metadata": {},
   "outputs": [
    {
     "data": {
      "text/plain": [
       "zip5                   0\n",
       "zip9                   0\n",
       "mean_age               0\n",
       "median_home_value      0\n",
       "standardized_income    0\n",
       "household_count        0\n",
       "dtype: int64"
      ]
     },
     "execution_count": 64,
     "metadata": {},
     "output_type": "execute_result"
    }
   ],
   "source": [
    "imputed_merge.isnull().sum()"
   ]
  },
  {
   "cell_type": "code",
   "execution_count": null,
   "metadata": {},
   "outputs": [],
   "source": [
    "imputed_merge.corr()"
   ]
  },
  {
   "cell_type": "code",
   "execution_count": null,
   "metadata": {},
   "outputs": [],
   "source": [
    "for i in np.arange(50, 20, -1):\n",
    "\n",
    "    print(str(imputed_merge[imputed_merge['mean_age'] < i].loc[:, ['homebuyers','mean_age']].corr().iloc[0,1]) + \\\n",
    "          str(\" less than \" + str(i) + \" | \") + str(imputed_merge[imputed_merge['mean_age'] > i].loc[:, ['homebuyers','mean_age']].corr().iloc[0,1]) + \\\n",
    "          str(\" greater than \" + str(i)))"
   ]
  },
  {
   "cell_type": "code",
   "execution_count": null,
   "metadata": {},
   "outputs": [],
   "source": [
    "plt.hist(imputed_merge['mean_age'])"
   ]
  },
  {
   "cell_type": "code",
   "execution_count": null,
   "metadata": {},
   "outputs": [],
   "source": [
    "imputed_merge.head()"
   ]
  },
  {
   "cell_type": "code",
   "execution_count": null,
   "metadata": {},
   "outputs": [],
   "source": [
    "# As household count increases, the affordability of an area increases (means houses are less affordable)\n",
    "# There is a strong correlation between level of affordability and house hold count in the area\n",
    "\n",
    "fig = go.Figure(data=go.Scatter(\n",
    "    y = merge['homebuyers'],\n",
    "    x = merge['mean_age'],\n",
    "    mode='markers',\n",
    "    marker=dict(\n",
    "        size=8,\n",
    "        color=merge['household_count'], #set color equal to a variable\n",
    "        colorscale='Viridis', # one of plotly colorscales\n",
    "        showscale=True\n",
    "    )\n",
    "))\n",
    "\n",
    "# Plot labels\n",
    "fig.update_layout(title='',\n",
    "                  xaxis_title='Average Age',\n",
    "                  yaxis_title='Total Homes Bought',\n",
    "                  annotations=[\n",
    "                      \n",
    "                  ],\n",
    "                 shapes=[\n",
    "                     go.layout.Shape(\n",
    "                        type=\"line\",\n",
    "                        x0=43,\n",
    "                        y0=0,\n",
    "                        x1=43,\n",
    "                        y1=185,\n",
    "                        line=dict(\n",
    "                            color=\"red\",\n",
    "                            width=4,\n",
    "                            dash=\"dot\",\n",
    "                            ))])\n",
    "\n",
    "\n",
    "\n",
    "fig.show()\n",
    "\n",
    "fig.write_image(\"images/age.png\")\n"
   ]
  },
  {
   "cell_type": "code",
   "execution_count": null,
   "metadata": {},
   "outputs": [],
   "source": [
    "greater31 = imputed_merge[imputed_merge['mean_age'] >= 45]#.loc[imputed_merge['homebuyers'] !=0]"
   ]
  },
  {
   "cell_type": "code",
   "execution_count": null,
   "metadata": {},
   "outputs": [],
   "source": [
    "merge.head()"
   ]
  },
  {
   "cell_type": "code",
   "execution_count": null,
   "metadata": {},
   "outputs": [],
   "source": [
    "some_slice = merge.loc[:, ['median_home_value', 'Avg total income', 'affordability', 'homebuyers']].corr()"
   ]
  },
  {
   "cell_type": "code",
   "execution_count": null,
   "metadata": {},
   "outputs": [],
   "source": [
    "import seaborn as sns"
   ]
  },
  {
   "cell_type": "code",
   "execution_count": null,
   "metadata": {},
   "outputs": [],
   "source": [
    "ax = sns.heatmap(some_slice, cmap=\"YlGnBu\")"
   ]
  },
  {
   "cell_type": "code",
   "execution_count": null,
   "metadata": {},
   "outputs": [],
   "source": [
    "merge.loc[:, ['median_home_value', 'household_count']].corr().iloc[0,1]"
   ]
  },
  {
   "cell_type": "code",
   "execution_count": null,
   "metadata": {},
   "outputs": [],
   "source": [
    "corrs = []\n",
    "for i in np.arange(10000):\n",
    "    sample = merge.sample(len(merge), replace=True)\n",
    "    corrs.append(sample.loc[:, ['affordability', 'homebuyers']].corr().iloc[0, 1])"
   ]
  },
  {
   "cell_type": "code",
   "execution_count": null,
   "metadata": {},
   "outputs": [],
   "source": [
    "fig = go.Figure(data=[go.Histogram(x=corrs, histnorm='probability')])\n",
    "\n",
    "fig.update_layout(title='',\n",
    "                  xaxis_title='correlation',\n",
    "                  yaxis_title='density',\n",
    "                 annotations=[\n",
    "                    \n",
    "                      ],\n",
    "                 )\n",
    "fig.update_xaxes(range=[0.2, 0.26])\n",
    "\n",
    "fig.show()"
   ]
  },
  {
   "cell_type": "code",
   "execution_count": null,
   "metadata": {},
   "outputs": [],
   "source": [
    "fig = go.Figure(data=go.Scatter(\n",
    "    y = merge['affordability'],\n",
    "    x = merge['household_count'],\n",
    "    mode='markers',\n",
    "    marker=dict(\n",
    "        size=12,\n",
    "#         color='blue',#large_communities['household_count'], #set color equal to a variable\n",
    "#         colorscale='Viridis', # one of plotly colorscales\n",
    "#         showscale=True\n",
    "    )\n",
    "))\n",
    "\n",
    "fig.show()"
   ]
  },
  {
   "cell_type": "code",
   "execution_count": null,
   "metadata": {},
   "outputs": [],
   "source": []
  },
  {
   "cell_type": "code",
   "execution_count": null,
   "metadata": {},
   "outputs": [],
   "source": [
    "fig = go.Figure(data=go.Scatter(\n",
    "    y = greater31['homebuyers'],\n",
    "    x = greater31['mean_age'],\n",
    "    mode='markers',\n",
    "    marker=dict(\n",
    "        size=12,\n",
    "#         color='blue',#large_communities['household_count'], #set color equal to a variable\n",
    "#         colorscale='Viridis', # one of plotly colorscales\n",
    "#         showscale=True\n",
    "    )\n",
    "))\n",
    "\n",
    "fig.show()"
   ]
  },
  {
   "cell_type": "code",
   "execution_count": null,
   "metadata": {},
   "outputs": [],
   "source": [
    "# the underlying story is that higher amount of households in an area (e.g. large communities) leads to both \n",
    "# less affordable houses. People have \n",
    "\n",
    "# gaining economic advantage (buy low sell high)\n",
    "# ideally want to move to a place where there is a large community\n",
    "# at a circumstance when you need to buy a house (age maturity)\n",
    "\n",
    "# we didn't take into account necessity (people need to move with work). Drivers should account for majority"
   ]
  },
  {
   "cell_type": "code",
   "execution_count": 65,
   "metadata": {},
   "outputs": [
    {
     "data": {
      "text/html": [
       "<div>\n",
       "<style scoped>\n",
       "    .dataframe tbody tr th:only-of-type {\n",
       "        vertical-align: middle;\n",
       "    }\n",
       "\n",
       "    .dataframe tbody tr th {\n",
       "        vertical-align: top;\n",
       "    }\n",
       "\n",
       "    .dataframe thead th {\n",
       "        text-align: right;\n",
       "    }\n",
       "</style>\n",
       "<table border=\"1\" class=\"dataframe\">\n",
       "  <thead>\n",
       "    <tr style=\"text-align: right;\">\n",
       "      <th></th>\n",
       "      <th>zip5</th>\n",
       "      <th>zip9</th>\n",
       "      <th>mean_age</th>\n",
       "      <th>median_home_value</th>\n",
       "      <th>standardized_income</th>\n",
       "      <th>household_count</th>\n",
       "    </tr>\n",
       "  </thead>\n",
       "  <tbody>\n",
       "    <tr>\n",
       "      <th>0</th>\n",
       "      <td>1001.0</td>\n",
       "      <td>3797056.0</td>\n",
       "      <td>0.12771</td>\n",
       "      <td>-0.002525</td>\n",
       "      <td>-0.094343</td>\n",
       "      <td>406.0</td>\n",
       "    </tr>\n",
       "    <tr>\n",
       "      <th>1</th>\n",
       "      <td>1001.0</td>\n",
       "      <td>3068313.0</td>\n",
       "      <td>0.12771</td>\n",
       "      <td>-0.002525</td>\n",
       "      <td>-0.094343</td>\n",
       "      <td>406.0</td>\n",
       "    </tr>\n",
       "    <tr>\n",
       "      <th>2</th>\n",
       "      <td>1001.0</td>\n",
       "      <td>3203991.0</td>\n",
       "      <td>0.12771</td>\n",
       "      <td>-0.002525</td>\n",
       "      <td>-0.094343</td>\n",
       "      <td>406.0</td>\n",
       "    </tr>\n",
       "    <tr>\n",
       "      <th>3</th>\n",
       "      <td>1001.0</td>\n",
       "      <td>324866.0</td>\n",
       "      <td>0.12771</td>\n",
       "      <td>-0.002525</td>\n",
       "      <td>-0.094343</td>\n",
       "      <td>406.0</td>\n",
       "    </tr>\n",
       "    <tr>\n",
       "      <th>4</th>\n",
       "      <td>1001.0</td>\n",
       "      <td>2899974.0</td>\n",
       "      <td>0.12771</td>\n",
       "      <td>-0.002525</td>\n",
       "      <td>-0.094343</td>\n",
       "      <td>406.0</td>\n",
       "    </tr>\n",
       "  </tbody>\n",
       "</table>\n",
       "</div>"
      ],
      "text/plain": [
       "     zip5       zip9  mean_age  median_home_value  standardized_income  \\\n",
       "0  1001.0  3797056.0   0.12771          -0.002525            -0.094343   \n",
       "1  1001.0  3068313.0   0.12771          -0.002525            -0.094343   \n",
       "2  1001.0  3203991.0   0.12771          -0.002525            -0.094343   \n",
       "3  1001.0   324866.0   0.12771          -0.002525            -0.094343   \n",
       "4  1001.0  2899974.0   0.12771          -0.002525            -0.094343   \n",
       "\n",
       "   household_count  \n",
       "0            406.0  \n",
       "1            406.0  \n",
       "2            406.0  \n",
       "3            406.0  \n",
       "4            406.0  "
      ]
     },
     "execution_count": 65,
     "metadata": {},
     "output_type": "execute_result"
    }
   ],
   "source": [
    "imputed_merge.head()"
   ]
  },
  {
   "cell_type": "code",
   "execution_count": 70,
   "metadata": {},
   "outputs": [],
   "source": [
    "imputed_merge['zip5'] = imputed_merge['zip5'].apply(int)\n",
    "imputed_merge['zip9'] = imputed_merge['zip9'].apply(int)\n",
    "imputed_merge['household_count'] = imputed_merge['household_count'].apply(int)"
   ]
  },
  {
   "cell_type": "code",
   "execution_count": 71,
   "metadata": {},
   "outputs": [
    {
     "data": {
      "text/html": [
       "<div>\n",
       "<style scoped>\n",
       "    .dataframe tbody tr th:only-of-type {\n",
       "        vertical-align: middle;\n",
       "    }\n",
       "\n",
       "    .dataframe tbody tr th {\n",
       "        vertical-align: top;\n",
       "    }\n",
       "\n",
       "    .dataframe thead th {\n",
       "        text-align: right;\n",
       "    }\n",
       "</style>\n",
       "<table border=\"1\" class=\"dataframe\">\n",
       "  <thead>\n",
       "    <tr style=\"text-align: right;\">\n",
       "      <th></th>\n",
       "      <th>zip5</th>\n",
       "      <th>zip9</th>\n",
       "      <th>mean_age</th>\n",
       "      <th>median_home_value</th>\n",
       "      <th>standardized_income</th>\n",
       "      <th>household_count</th>\n",
       "    </tr>\n",
       "  </thead>\n",
       "  <tbody>\n",
       "    <tr>\n",
       "      <th>0</th>\n",
       "      <td>1001</td>\n",
       "      <td>3797056</td>\n",
       "      <td>0.12771</td>\n",
       "      <td>-0.002525</td>\n",
       "      <td>-0.094343</td>\n",
       "      <td>406</td>\n",
       "    </tr>\n",
       "    <tr>\n",
       "      <th>1</th>\n",
       "      <td>1001</td>\n",
       "      <td>3068313</td>\n",
       "      <td>0.12771</td>\n",
       "      <td>-0.002525</td>\n",
       "      <td>-0.094343</td>\n",
       "      <td>406</td>\n",
       "    </tr>\n",
       "    <tr>\n",
       "      <th>2</th>\n",
       "      <td>1001</td>\n",
       "      <td>3203991</td>\n",
       "      <td>0.12771</td>\n",
       "      <td>-0.002525</td>\n",
       "      <td>-0.094343</td>\n",
       "      <td>406</td>\n",
       "    </tr>\n",
       "    <tr>\n",
       "      <th>3</th>\n",
       "      <td>1001</td>\n",
       "      <td>324866</td>\n",
       "      <td>0.12771</td>\n",
       "      <td>-0.002525</td>\n",
       "      <td>-0.094343</td>\n",
       "      <td>406</td>\n",
       "    </tr>\n",
       "    <tr>\n",
       "      <th>4</th>\n",
       "      <td>1001</td>\n",
       "      <td>2899974</td>\n",
       "      <td>0.12771</td>\n",
       "      <td>-0.002525</td>\n",
       "      <td>-0.094343</td>\n",
       "      <td>406</td>\n",
       "    </tr>\n",
       "  </tbody>\n",
       "</table>\n",
       "</div>"
      ],
      "text/plain": [
       "   zip5     zip9  mean_age  median_home_value  standardized_income  \\\n",
       "0  1001  3797056   0.12771          -0.002525            -0.094343   \n",
       "1  1001  3068313   0.12771          -0.002525            -0.094343   \n",
       "2  1001  3203991   0.12771          -0.002525            -0.094343   \n",
       "3  1001   324866   0.12771          -0.002525            -0.094343   \n",
       "4  1001  2899974   0.12771          -0.002525            -0.094343   \n",
       "\n",
       "   household_count  \n",
       "0              406  \n",
       "1              406  \n",
       "2              406  \n",
       "3              406  \n",
       "4              406  "
      ]
     },
     "execution_count": 71,
     "metadata": {},
     "output_type": "execute_result"
    }
   ],
   "source": [
    "imputed_merge.head()"
   ]
  },
  {
   "cell_type": "code",
   "execution_count": null,
   "metadata": {},
   "outputs": [],
   "source": [
    "imputed_merge.drop(columns=['homebuyers'], inplace=True)"
   ]
  },
  {
   "cell_type": "code",
   "execution_count": 72,
   "metadata": {},
   "outputs": [],
   "source": [
    "imputed_merge.to_csv(\"test-data.csv\", index=False)"
   ]
  },
  {
   "cell_type": "code",
   "execution_count": null,
   "metadata": {},
   "outputs": [],
   "source": [
    "imputed_merge"
   ]
  },
  {
   "cell_type": "code",
   "execution_count": null,
   "metadata": {},
   "outputs": [],
   "source": [
    "df = pd.read"
   ]
  }
 ],
 "metadata": {
  "kernelspec": {
   "display_name": "Python 3",
   "language": "python",
   "name": "python3"
  },
  "language_info": {
   "codemirror_mode": {
    "name": "ipython",
    "version": 3
   },
   "file_extension": ".py",
   "mimetype": "text/x-python",
   "name": "python",
   "nbconvert_exporter": "python",
   "pygments_lexer": "ipython3",
   "version": "3.6.5"
  }
 },
 "nbformat": 4,
 "nbformat_minor": 4
}
